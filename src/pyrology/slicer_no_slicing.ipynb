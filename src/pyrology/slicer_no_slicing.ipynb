{
 "cells": [
  {
   "cell_type": "code",
   "execution_count": 1,
   "metadata": {},
   "outputs": [
    {
     "data": {
      "text/plain": [
       "[[0, 1, 2, 3, 4, 5, 6, 7, 8, 9],\n",
       " [10, 11, 12, 13, 14, 15, 16, 17, 18, 19],\n",
       " [20, 21, 22, 23, 24, 25, 26, 27, 28, 29],\n",
       " [30, 31, 32, 33, 34, 35, 36, 37, 38, 39],\n",
       " [40, 41, 42, 43, 44, 45, 46, 47, 48, 49],\n",
       " [50, 51, 52, 53, 54, 55, 56, 57, 58, 59],\n",
       " [60, 61, 62, 63, 64, 65, 66, 67, 68, 69],\n",
       " [70, 71, 72, 73, 74, 75, 76, 77, 78, 79],\n",
       " [80, 81, 82, 83, 84, 85, 86, 87, 88, 89],\n",
       " [90, 91, 92, 93, 94, 95, 96, 97, 98, 99]]"
      ]
     },
     "execution_count": 1,
     "metadata": {},
     "output_type": "execute_result"
    }
   ],
   "source": [
    "l = list(range(100))\n",
    "\n"
   ]
  },
  {
   "cell_type": "code",
   "execution_count": 65,
   "metadata": {},
   "outputs": [
    {
     "data": {
      "text/plain": [
       "[[0, 1, 2, 3, 4, 5, 6, 7, 8, 9],\n",
       " [10, 11, 12, 13, 14, 15, 16, 17, 18, 19],\n",
       " [20, 21, 22, 23, 24, 25, 26, 27, 28, 29],\n",
       " [30, 31, 32, 33, 34, 35, 36, 37, 38, 39],\n",
       " [40, 41, 42, 43, 44, 45, 46, 47, 48, 49],\n",
       " [50, 51, 52, 53, 54, 55, 56, 57, 58, 59],\n",
       " [60, 61, 62, 63, 64, 65, 66, 67, 68, 69],\n",
       " [70, 71, 72, 73, 74, 75, 76, 77, 78, 79],\n",
       " [80, 81, 82, 83, 84, 85, 86, 87, 88, 89],\n",
       " [90, 91, 92, 93, 94, 95, 96, 97, 98, 99]]"
      ]
     },
     "execution_count": 65,
     "metadata": {},
     "output_type": "execute_result"
    }
   ],
   "source": [
    "slice = lambda l, m: [l[i:i+m] for i in range(0, len(l), m)]\n",
    "\n",
    "slice(l, 10)"
   ]
  },
  {
   "cell_type": "code",
   "execution_count": 73,
   "metadata": {},
   "outputs": [
    {
     "data": {
      "text/plain": [
       "[[[0, 1], [2, 3], [4, 5], [6, 7], [8, 9]],\n",
       " [[10, 11], [12, 13], [14, 15], [16, 17], [18, 19]],\n",
       " [[20, 21], [22, 23], [24, 25], [26, 27], [28, 29]],\n",
       " [[30, 31], [32, 33], [34, 35], [36, 37], [38, 39]],\n",
       " [[40, 41], [42, 43], [44, 45], [46, 47], [48, 49]],\n",
       " [[50, 51], [52, 53], [54, 55], [56, 57], [58, 59]],\n",
       " [[60, 61], [62, 63], [64, 65], [66, 67], [68, 69]],\n",
       " [[70, 71], [72, 73], [74, 75], [76, 77], [78, 79]],\n",
       " [[80, 81], [82, 83], [84, 85], [86, 87], [88, 89]],\n",
       " [[90, 91], [92, 93], [94, 95], [96, 97], [98, 99]]]"
      ]
     },
     "execution_count": 73,
     "metadata": {},
     "output_type": "execute_result"
    }
   ],
   "source": [
    "slice = lambda l, m: [l[i:i+m] for i in range(0, len(l), m)]\n",
    "double_slice = lambda l, m, n: [slice(l[i:i+m], n) for i in range(0, len(l), m)]\n",
    "\n",
    "double_slice(l, 10, 2)"
   ]
  },
  {
   "cell_type": "code",
   "execution_count": 77,
   "metadata": {},
   "outputs": [
    {
     "data": {
      "text/plain": [
       "[[[[0], [1]], [[2], [3]], [[4], [5]], [[6], [7]], [[8], [9]]],\n",
       " [[[10], [11]], [[12], [13]], [[14], [15]], [[16], [17]], [[18], [19]]],\n",
       " [[[20], [21]], [[22], [23]], [[24], [25]], [[26], [27]], [[28], [29]]],\n",
       " [[[30], [31]], [[32], [33]], [[34], [35]], [[36], [37]], [[38], [39]]],\n",
       " [[[40], [41]], [[42], [43]], [[44], [45]], [[46], [47]], [[48], [49]]],\n",
       " [[[50], [51]], [[52], [53]], [[54], [55]], [[56], [57]], [[58], [59]]],\n",
       " [[[60], [61]], [[62], [63]], [[64], [65]], [[66], [67]], [[68], [69]]],\n",
       " [[[70], [71]], [[72], [73]], [[74], [75]], [[76], [77]], [[78], [79]]],\n",
       " [[[80], [81]], [[82], [83]], [[84], [85]], [[86], [87]], [[88], [89]]],\n",
       " [[[90], [91]], [[92], [93]], [[94], [95]], [[96], [97]], [[98], [99]]]]"
      ]
     },
     "execution_count": 77,
     "metadata": {},
     "output_type": "execute_result"
    }
   ],
   "source": [
    "triple_slice = lambda l, m, n, o: [double_slice(l[i:i+m], n, o) for i in range(0, len(l), m)]\n",
    "\n",
    "triple_slice(l, 10, 2, 1)"
   ]
  },
  {
   "cell_type": "code",
   "execution_count": 106,
   "metadata": {},
   "outputs": [
    {
     "name": "stdout",
     "output_type": "stream",
     "text": [
      "NS [[[[[0, 1, 2], [3, 4, 5]], [[6, 7, 8], [9, 10, 11]]], [[[12, 13, 14], [15, 16, 17]], [[18, 19, 20], [21, 22, 23]]], [[[24]]]], [[[[25, 26, 27], [28, 29, 30]], [[31, 32, 33], [34, 35, 36]]], [[[37, 38, 39], [40, 41, 42]], [[43, 44, 45], [46, 47, 48]]], [[[49]]]], [[[[50, 51, 52], [53, 54, 55]], [[56, 57, 58], [59, 60, 61]]], [[[62, 63, 64], [65, 66, 67]], [[68, 69, 70], [71, 72, 73]]], [[[74]]]], [[[[75, 76, 77], [78, 79, 80]], [[81, 82, 83], [84, 85, 86]]], [[[87, 88, 89], [90, 91, 92]], [[93, 94, 95], [96, 97, 98]]], [[[99]]]]]\n"
     ]
    }
   ],
   "source": [
    "from functools import reduce\n",
    "\n",
    "\n",
    "slice =        lambda l, m             :[             l[i:i+m]              for i in range(0, len(l), m)]\n",
    "double_slice = lambda l, m, n          :[       slice(l[i:i+m], n)          for i in range(0, len(l), m)]\n",
    "triple_slice = lambda l, m, n, o       :[double_slice(l[i:i+m], n, o)       for i in range(0, len(l), m)]\n",
    "quad_slice =   lambda l, m, n, o, p    :[triple_slice(l[i:i+m], n, o, p)    for i in range(0, len(l), m)]\n",
    "penta_slice =  lambda l, m, n, o, p, q :[  quad_slice(l[i:i+m], n, o, p, q) for i in range(0, len(l), m)]\n",
    "\n",
    "n_slice = lambda l, *args: slice(l, args[0]) if len(args) == 1 else [n_slice(l[i:i+args[0]], *args[1:]) for i in range(0, len(l), args[0])]\n",
    "\n",
    "qs = quad_slice(l, 25, 12, 6, 3)\n",
    "ns =    n_slice(l, 25, 12, 6, 3)\n",
    "\n",
    "print(\"NS\", ns)\n",
    "assert(qs == ns)"
   ]
  },
  {
   "cell_type": "code",
   "execution_count": 122,
   "metadata": {},
   "outputs": [
    {
     "data": {
      "text/plain": [
       "[0, 1, 2, 3, 4, 5, 6, 7, 8, 9]"
      ]
     },
     "execution_count": 122,
     "metadata": {},
     "output_type": "execute_result"
    }
   ],
   "source": [
    "def muncher(tt):\n",
    "    while len(tt) > 1:\n",
    "        t, tt = tt[0], tt[1:]\n",
    "        yield t\n",
    "    yield tt[0]\n",
    "\n",
    "l = list(range(10))\n",
    "list(muncher(l))"
   ]
  },
  {
   "cell_type": "code",
   "execution_count": 64,
   "metadata": {},
   "outputs": [
    {
     "data": {
      "text/plain": [
       "[<map at 0x7f1c83e952a0>, <map at 0x7f1c83e96c80>]"
      ]
     },
     "execution_count": 64,
     "metadata": {},
     "output_type": "execute_result"
    }
   ],
   "source": [
    "slap = lambda f, l, m: [map(f, l[i:i+m]) for i in range(0, len(l), m)]\n",
    "hyperslap = lambda f, l, m: [slap(f, slap(f, l, int(m/2)), int(m/2)) for i in range(0, len(l), m)]\n",
    "ultraslap = lambda f, l, m: [hyperslap(f, hyperslap(f, l, int(m/2)), int(m/2)) for i in range(0, len(l), m)]\n",
    "\n",
    "us = ultraslap(lambda x: x, l, 10)\n",
    "\n",
    "get_ultraslap_value = lambda x, y, z, w, r, t: list(list(us[x][y][z])[w])[r][t]\n",
    "\n",
    "list(get_ultraslap_value(0, 1, 3, 1, 0, 0))"
   ]
  },
  {
   "cell_type": "code",
   "execution_count": null,
   "metadata": {},
   "outputs": [],
   "source": [
    "knowledge = {\n",
    "    \"science\": \"stu\"\n",
    "}"
   ]
  }
 ],
 "metadata": {
  "kernelspec": {
   "display_name": ".venv",
   "language": "python",
   "name": "python3"
  },
  "language_info": {
   "codemirror_mode": {
    "name": "ipython",
    "version": 3
   },
   "file_extension": ".py",
   "mimetype": "text/x-python",
   "name": "python",
   "nbconvert_exporter": "python",
   "pygments_lexer": "ipython3",
   "version": "3.10.7"
  },
  "orig_nbformat": 4,
  "vscode": {
   "interpreter": {
    "hash": "e495771f6a2357082321f0c580494622626e8944f0b7c161f881ba8894fcf980"
   }
  }
 },
 "nbformat": 4,
 "nbformat_minor": 2
}
